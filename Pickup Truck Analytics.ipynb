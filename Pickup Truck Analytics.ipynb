{
 "cells": [
  {
   "cell_type": "code",
   "execution_count": 1,
   "id": "dace2c22",
   "metadata": {},
   "outputs": [],
   "source": [
    "# Dependencies\n",
    "from bs4 import BeautifulSoup\n",
    "from urllib.parse import urlparse\n",
    "import urllib.request\n",
    "import requests\n",
    "import pandas as pd\n",
    "import time\n",
    "import re\n",
    "import json\n",
    "import matplotlib.pyplot as plt\n",
    "import numpy as np\n",
    "import time\n",
    "from sklearn.model_selection import train_test_split\n",
    "from sklearn.linear_model import LinearRegression\n",
    "from sklearn.metrics import r2_score\n",
    "from sklearn.preprocessing import PolynomialFeatures\n",
    "import warnings\n",
    "\n",
    "warnings.filterwarnings('ignore')\n",
    "warnings.simplefilter('ignore')"
   ]
  },
  {
   "cell_type": "code",
   "execution_count": 2,
   "id": "52242878",
   "metadata": {},
   "outputs": [],
   "source": [
    "def LinReg(dframe):\n",
    "    # Linear Regression Using SKLearn\n",
    "\n",
    "    #1. Determine X & y\n",
    "\n",
    "    x = dframe['Miles'].values\n",
    "    y = dframe['Price'].values\n",
    "\n",
    "    #2. Split the Dataset in Training Set and Test Set\n",
    "\n",
    "    x_train, x_test,y_train,y_test = train_test_split(x,y,test_size=.30,random_state=0)\n",
    "\n",
    "    # Visualize Data Split\n",
    "    fig = plt.figure(figsize =(10, 7))\n",
    "    plt.scatter(x_train,y_train, label='Training Data', color='g',alpha=.7)\n",
    "    #plt.scatter(x_test,y_test, label='Testing Data', color='g',alpha=.7)\n",
    "    #plt.legend()\n",
    "\n",
    "    #3. Train the Model on the Training Set\n",
    "\n",
    "    LR =LinearRegression().fit(x_train.reshape(-1,1),y_train)\n",
    "\n",
    "    # Use Model to Predict on Test Data\n",
    "\n",
    "    pred = LR.predict(x_test.reshape(-1,1))\n",
    "\n",
    "    # Set X & Y Limits\n",
    "    \n",
    "    ax = plt.gca()\n",
    "    ax.set_xlim([0,120000])\n",
    "    ax.set_ylim([0,75000])\n",
    "\n",
    "    # Plot Prediction Line Against Actual Test Data\n",
    "\n",
    "\n",
    "    plt.plot(x_test, pred, label = 'Linear Regression',color='r')\n",
    "    plt.scatter(x_test,y_test,label = 'Actual Test Data',color='g',alpha=.7,edgecolors='k')\n",
    "    plt.legend()\n",
    "    plt.title('Price vs Mileage of '+dframe.iloc[1,0]+' '+dframe.iloc[1,1]+' '+dframe.iloc[1,3])\n",
    "    plt.xlabel('Miles')\n",
    "    plt.ylabel('Price ($)')\n",
    "    plt.grid(True)\n",
    "    plt.show()\n",
    "\n",
    "\n",
    "\n",
    "    # Evaluate the Model\n",
    "    scr = LR.score(x_train.reshape(-1,1),y_train)\n",
    "    scr = '{:,.2f}%'.format(scr*100)\n",
    "    print('The Overall Accuracry of the Model is: '+scr)\n",
    "\n",
    "    r2 = r2_score(y_test,pred)\n",
    "    print('The R^2 Value of the Linear Regression Model is: '+str(r2))\n",
    "\n",
    "\n",
    "    m = float(LR.coef_)\n",
    "    m = '{:,.2f}'.format(m)\n",
    "    b= float(LR.intercept_)\n",
    "    b=  '{:,.2f}'.format(b)\n",
    "\n",
    "    print('The Linear Equation of the Regression is: Y='+str(m)+'X + '+str(b))\n",
    "    print('For Every Mile Driven The Value of the Truck Drops by: $'+str(m))\n",
    "    print('Number of Records: '+str(len(dframe['Brand'])))"
   ]
  },
  {
   "cell_type": "code",
   "execution_count": 4,
   "id": "db8ed8a6",
   "metadata": {},
   "outputs": [],
   "source": [
    "# Def Box Plot\n",
    "\n",
    "#def BoxPlot(dframe):"
   ]
  },
  {
   "cell_type": "code",
   "execution_count": 5,
   "id": "40c9aff1",
   "metadata": {},
   "outputs": [],
   "source": [
    "#gmc_denali[['Miles','Price']].describe()"
   ]
  },
  {
   "cell_type": "code",
   "execution_count": null,
   "id": "4b6745f4",
   "metadata": {},
   "outputs": [],
   "source": [
    "#LinReg(gmc_denali)"
   ]
  }
 ],
 "metadata": {
  "kernelspec": {
   "display_name": "Python 3",
   "language": "python",
   "name": "python3"
  },
  "language_info": {
   "codemirror_mode": {
    "name": "ipython",
    "version": 3
   },
   "file_extension": ".py",
   "mimetype": "text/x-python",
   "name": "python",
   "nbconvert_exporter": "python",
   "pygments_lexer": "ipython3",
   "version": "3.8.8"
  }
 },
 "nbformat": 4,
 "nbformat_minor": 5
}
